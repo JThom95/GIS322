{
  "nbformat": 4,
  "nbformat_minor": 0,
  "metadata": {
    "colab": {
      "name": "GIS322_Quiz_2",
      "provenance": [],
      "collapsed_sections": [],
      "authorship_tag": "ABX9TyOZEo+Aq78sAON7be6M3hmp",
      "include_colab_link": true
    },
    "kernelspec": {
      "name": "python3",
      "display_name": "Python 3"
    }
  },
  "cells": [
    {
      "cell_type": "markdown",
      "metadata": {
        "id": "view-in-github",
        "colab_type": "text"
      },
      "source": [
        "<a href=\"https://colab.research.google.com/github/JThom95/GIS322/blob/main/GIS322_Quiz_2.ipynb\" target=\"_parent\"><img src=\"https://colab.research.google.com/assets/colab-badge.svg\" alt=\"Open In Colab\"/></a>"
      ]
    },
    {
      "cell_type": "code",
      "metadata": {
        "id": "MXJkZCbTYWfz",
        "outputId": "b6f8e6ca-d379-45b9-e20f-1d5d71a6ad12",
        "colab": {
          "base_uri": "https://localhost:8080/",
          "height": 34
        }
      },
      "source": [
        "import math\n",
        "\n",
        "def distance(x1, y1, x2, y2): # these are four input values of two points (x1,y1) and (x2,y2)\n",
        "  d = math.sqrt((x1-x2)**2 + (y1-y2)**2)\n",
        "  return d # set the return value\n",
        " \n",
        "# define two points, you may name the variable at any name\n",
        "a1, a2 = 40, 70 # point1\n",
        "b1, b2 = 34, 118 # point2\n",
        "\n",
        "dis = distance(a1,a2,b1,b2)\n",
        "disMiles = dis*69\n",
        "print(disMiles)"
      ],
      "execution_count": null,
      "outputs": [
        {
          "output_type": "stream",
          "text": [
            "3337.774707795599\n"
          ],
          "name": "stdout"
        }
      ]
    },
    {
      "cell_type": "code",
      "metadata": {
        "id": "Mrej5ps8ZS2i",
        "outputId": "c0980ed3-0979-4c8e-da37-84a5ee598259",
        "colab": {
          "base_uri": "https://localhost:8080/",
          "height": 191
        }
      },
      "source": [
        "line1 = [[1,2], [3,5], [4, 10], [12, 20]]\n",
        "\n",
        "import math\n",
        "def distance(p1,p2):\n",
        "  d = math.sqrt((p1[0]-p1[1])**2 + (p2[0]-p2[1])**2)\n",
        "  return d \n",
        "\n",
        "#Set the length variable outside the loop, with initial value 0\n",
        "length = 0\n",
        "print(\"Initial length is: \", length)\n",
        "# Next, let's write the loop \n",
        "for i in range(len(line1)-1): # get each element (point) of the poly1 list, excluding the last point (because there is only n-1 segments, so we used len(poly1)-1 here.\n",
        "  print(\"Iteration\", i)\n",
        "  pi = line1[i] # get ith point\n",
        "  pi_plus1 = line1[i+1] # get (i+1)th point\n",
        "  dis = distance (pi, pi_plus1)\n",
        "  print(\"   The distance between p%d and p%d is: %.2f\" % (i, i+1, dis)) # %f means to output a floating number, .2 means two decimal digits\n",
        "  length += dis #add each segment length to the total length\n",
        "  print(\"   Polyline length becomes: %.2f (by adding %.2f)\" % (length,dis))"
      ],
      "execution_count": null,
      "outputs": [
        {
          "output_type": "stream",
          "text": [
            "Initial length is:  0\n",
            "Iteration 0\n",
            "   The distance between p0 and p1 is: 2.24\n",
            "   Polyline length becomes: 2.24 (by adding 2.24)\n",
            "Iteration 1\n",
            "   The distance between p1 and p2 is: 6.32\n",
            "   Polyline length becomes: 8.56 (by adding 6.32)\n",
            "Iteration 2\n",
            "   The distance between p2 and p3 is: 10.00\n",
            "   Polyline length becomes: 18.56 (by adding 10.00)\n"
          ],
          "name": "stdout"
        }
      ]
    },
    {
      "cell_type": "code",
      "metadata": {
        "id": "o7JAFoEZZ9ly",
        "outputId": "7461cfec-633c-428a-8d7c-595cff326c4c",
        "colab": {
          "base_uri": "https://localhost:8080/",
          "height": 34
        }
      },
      "source": [
        "from shapely.geometry import Point, LineString, Polygon\n",
        "\n",
        "my_polygon = Polygon([(2.2, 4.2), (7.2, -25.1), (10, -3)])\n",
        "\n",
        "poly_area = my_polygon.area\n",
        "print(poly_area)"
      ],
      "execution_count": null,
      "outputs": [
        {
          "output_type": "stream",
          "text": [
            "96.27\n"
          ],
          "name": "stdout"
        }
      ]
    },
    {
      "cell_type": "code",
      "metadata": {
        "id": "pTK4s-rEfw0P",
        "outputId": "b520c2e7-0894-40e7-ca59-3775c2eb14b4",
        "colab": {
          "base_uri": "https://localhost:8080/",
          "height": 34
        }
      },
      "source": [
        "point_1 = [10, 20]\n",
        "\n",
        "point_2 = [40, 90]\n",
        "\n",
        "point_3 = [100, 150]\n",
        "\n",
        "line2 = LineString([point_1, point_2, point_3])\n",
        "\n",
        "ln2_len = line2.length\n",
        "print(ln2_len)"
      ],
      "execution_count": null,
      "outputs": [
        {
          "output_type": "stream",
          "text": [
            "161.0105448010248\n"
          ],
          "name": "stdout"
        }
      ]
    },
    {
      "cell_type": "code",
      "metadata": {
        "id": "TEezz8Y7gau1"
      },
      "source": [
        ""
      ],
      "execution_count": null,
      "outputs": []
    }
  ]
}