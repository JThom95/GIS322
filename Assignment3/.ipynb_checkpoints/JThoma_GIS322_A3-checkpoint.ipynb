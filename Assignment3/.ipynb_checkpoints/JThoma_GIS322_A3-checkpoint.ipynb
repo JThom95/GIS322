{
 "cells": [
  {
   "cell_type": "code",
   "execution_count": 8,
   "metadata": {
    "id": "Rgzn7bIjJefu"
   },
   "outputs": [
    {
     "ename": "ModuleNotFoundError",
     "evalue": "No module named 'shapely'",
     "output_type": "error",
     "traceback": [
      "\u001b[0;31m---------------------------------------------------------------------------\u001b[0m",
      "\u001b[0;31mModuleNotFoundError\u001b[0m                       Traceback (most recent call last)",
      "\u001b[0;32m<ipython-input-8-b0c4cb085115>\u001b[0m in \u001b[0;36m<module>\u001b[0;34m\u001b[0m\n\u001b[1;32m      2\u001b[0m \u001b[0;32mimport\u001b[0m \u001b[0mmath\u001b[0m\u001b[0;34m\u001b[0m\u001b[0;34m\u001b[0m\u001b[0m\n\u001b[1;32m      3\u001b[0m \u001b[0;32mimport\u001b[0m \u001b[0mnumpy\u001b[0m \u001b[0;32mas\u001b[0m \u001b[0mnp\u001b[0m\u001b[0;34m\u001b[0m\u001b[0;34m\u001b[0m\u001b[0m\n\u001b[0;32m----> 4\u001b[0;31m \u001b[0;32mfrom\u001b[0m \u001b[0mshapely\u001b[0m\u001b[0;34m.\u001b[0m\u001b[0mgeometry\u001b[0m \u001b[0;32mimport\u001b[0m \u001b[0mMultiLineString\u001b[0m\u001b[0;34m\u001b[0m\u001b[0;34m\u001b[0m\u001b[0m\n\u001b[0m\u001b[1;32m      5\u001b[0m \u001b[0;32mfrom\u001b[0m \u001b[0mmatplotlib\u001b[0m \u001b[0;32mimport\u001b[0m \u001b[0mpyplot\u001b[0m\u001b[0;34m\u001b[0m\u001b[0;34m\u001b[0m\u001b[0m\n",
      "\u001b[0;31mModuleNotFoundError\u001b[0m: No module named 'shapely'"
     ]
    }
   ],
   "source": [
    "### Import all necessary modules\n",
    "import math\n",
    "import numpy as np\n",
    "from shapely.geometry import MultiLineString\n",
    "from matplotlib import pyplot"
   ]
  },
  {
   "cell_type": "code",
   "execution_count": 3,
   "metadata": {
    "id": "jD9Son3hKmhh"
   },
   "outputs": [],
   "source": [
    "### Read the coumns: 'from_x', 'from_y', 'to_x', 'to_y' from the file \n",
    "### \"travelTimes_example_2019.txt\" into a numpy array\n",
    "\n",
    "data = np.loadtxt('travelTimes_example_2019.txt', skiprows= 1, delimiter=';', \n",
    "                  usecols= [5,6,7,8], dtype = int)"
   ]
  },
  {
   "cell_type": "code",
   "execution_count": 4,
   "metadata": {
    "id": "SCIFzxjXLLw3"
   },
   "outputs": [
    {
     "ename": "NameError",
     "evalue": "name 'MultiLineString' is not defined",
     "output_type": "error",
     "traceback": [
      "\u001b[0;31m---------------------------------------------------------------------------\u001b[0m",
      "\u001b[0;31mNameError\u001b[0m                                 Traceback (most recent call last)",
      "\u001b[0;32m<ipython-input-4-3bf97339f1df>\u001b[0m in \u001b[0;36m<module>\u001b[0;34m\u001b[0m\n\u001b[1;32m     17\u001b[0m \u001b[0;31m# new variable od_lines\u001b[0m\u001b[0;34m\u001b[0m\u001b[0;34m\u001b[0m\u001b[0;34m\u001b[0m\u001b[0m\n\u001b[1;32m     18\u001b[0m \u001b[0;34m\u001b[0m\u001b[0m\n\u001b[0;32m---> 19\u001b[0;31m \u001b[0mod_lines\u001b[0m \u001b[0;34m=\u001b[0m \u001b[0mMultiLineString\u001b[0m\u001b[0;34m(\u001b[0m\u001b[0mcoords\u001b[0m\u001b[0;34m)\u001b[0m\u001b[0;34m\u001b[0m\u001b[0;34m\u001b[0m\u001b[0m\n\u001b[0m",
      "\u001b[0;31mNameError\u001b[0m: name 'MultiLineString' is not defined"
     ]
    }
   ],
   "source": [
    "### Create an object called od_lines of the type MultiLineString to save all \n",
    "### origin-destination segments from the numpy array\n",
    "\n",
    "# Create empty list to store coordinate pairs\n",
    "\n",
    "coords = []\n",
    "\n",
    "# Create and run a function that iterates over the numpy array and adds  \n",
    "# coordinate pairs to list as a tuple of points\n",
    "\n",
    "def getCoords():\n",
    "  for i in data:\n",
    "    coords.append(((i[0],i[1]),(i[2],i[3])))\n",
    "getCoords()\n",
    "\n",
    "# Now that list is in proper format, push into MultiLineString type and save as\n",
    "# new variable od_lines\n",
    "\n",
    "od_lines = MultiLineString(coords)"
   ]
  },
  {
   "cell_type": "code",
   "execution_count": 5,
   "metadata": {
    "colab": {
     "base_uri": "https://localhost:8080/",
     "height": 86
    },
    "id": "DlwN4bq5YXco",
    "outputId": "14d819fa-1b41-4caf-e2fb-363e19119065"
   },
   "outputs": [
    {
     "name": "stdout",
     "output_type": "stream",
     "text": [
      "The Max X value is:  90\n",
      "The Min X value is:  11\n",
      "The Max Y value is:  90\n",
      "The Min Y value is:  11\n"
     ]
    }
   ],
   "source": [
    "### Iterate over the list of coordinates to get the max and min values\n",
    "### for the axes in the next step\n",
    "\n",
    "xcoords = []\n",
    "ycoords = []\n",
    "\n",
    "def getRange():\n",
    "  for i in coords:\n",
    "    xcoords.append(i[0][0])\n",
    "    xcoords.append(i[1][0])\n",
    "    ycoords.append(i[0][1])\n",
    "    ycoords.append(i[1][1])\n",
    "  print(\"The Max X value is: \", max(xcoords))\n",
    "  print(\"The Min X value is: \", min(xcoords))\n",
    "  print(\"The Max Y value is: \", max(ycoords))\n",
    "  print(\"The Min Y value is: \", min(ycoords))\n",
    "\n",
    "getRange()"
   ]
  },
  {
   "cell_type": "code",
   "execution_count": 6,
   "metadata": {
    "colab": {
     "base_uri": "https://localhost:8080/",
     "height": 412
    },
    "id": "sw3mwxfmNl9Y",
    "outputId": "a983ba80-7556-44f5-8a74-6eb74951a4fb"
   },
   "outputs": [
    {
     "ename": "NameError",
     "evalue": "name 'pyplot' is not defined",
     "output_type": "error",
     "traceback": [
      "\u001b[0;31m---------------------------------------------------------------------------\u001b[0m",
      "\u001b[0;31mNameError\u001b[0m                                 Traceback (most recent call last)",
      "\u001b[0;32m<ipython-input-6-2ac325db6cd1>\u001b[0m in \u001b[0;36m<module>\u001b[0;34m\u001b[0m\n\u001b[1;32m     32\u001b[0m \u001b[0;31m# figuresize -- provide width and height information\u001b[0m\u001b[0;34m\u001b[0m\u001b[0;34m\u001b[0m\u001b[0;34m\u001b[0m\u001b[0m\n\u001b[1;32m     33\u001b[0m \u001b[0;34m\u001b[0m\u001b[0m\n\u001b[0;32m---> 34\u001b[0;31m \u001b[0mfig\u001b[0m \u001b[0;34m=\u001b[0m \u001b[0mpyplot\u001b[0m\u001b[0;34m.\u001b[0m\u001b[0mfigure\u001b[0m\u001b[0;34m(\u001b[0m\u001b[0;36m1\u001b[0m\u001b[0;34m,\u001b[0m \u001b[0mfigsize\u001b[0m\u001b[0;34m=\u001b[0m\u001b[0;34m(\u001b[0m\u001b[0;36m8.0\u001b[0m\u001b[0;34m,\u001b[0m \u001b[0;36m4.0\u001b[0m\u001b[0;34m*\u001b[0m\u001b[0;34m(\u001b[0m\u001b[0mmath\u001b[0m\u001b[0;34m.\u001b[0m\u001b[0msqrt\u001b[0m\u001b[0;34m(\u001b[0m\u001b[0;36m5\u001b[0m\u001b[0;34m)\u001b[0m\u001b[0;34m-\u001b[0m\u001b[0;36m1\u001b[0m\u001b[0;34m)\u001b[0m\u001b[0;34m)\u001b[0m\u001b[0;34m,\u001b[0m \u001b[0mdpi\u001b[0m\u001b[0;34m=\u001b[0m\u001b[0;36m90\u001b[0m\u001b[0;34m)\u001b[0m\u001b[0;34m\u001b[0m\u001b[0;34m\u001b[0m\u001b[0m\n\u001b[0m\u001b[1;32m     35\u001b[0m \u001b[0;34m\u001b[0m\u001b[0m\n\u001b[1;32m     36\u001b[0m \u001b[0;31m# Plug in multi line string and adjust range values to\u001b[0m\u001b[0;34m\u001b[0m\u001b[0;34m\u001b[0m\u001b[0;34m\u001b[0m\u001b[0m\n",
      "\u001b[0;31mNameError\u001b[0m: name 'pyplot' is not defined"
     ]
    }
   ],
   "source": [
    "### Visualize all the lines in od_lines using matplotlib\n",
    "\n",
    "COLOR = {\n",
    "    True:  '#6699cc',\n",
    "    False: '#ffcc33'\n",
    "    }\n",
    "\n",
    "def v_color(ob): \n",
    "    return COLOR[ob.is_simple]\n",
    "\n",
    "# display cordinates \n",
    "\n",
    "def plot_coords(ax, ob):  \n",
    "    for line in ob:\n",
    "        x, y = line.xy\n",
    "        ax.plot(x, y, 'o', color='#999999', zorder=1)\n",
    "\n",
    "# display coordinates at the bound (begin and end points of a line)\n",
    "\n",
    "def plot_bounds(ax, ob): \n",
    "    x, y = zip(*list((p.x, p.y) for p in ob.boundary))\n",
    "    ax.plot(x, y, 'o', color='#000000', zorder=1)\n",
    "\n",
    "# draw lines\n",
    "\n",
    "def plot_lines(ax, ob): \n",
    "    for line in ob:\n",
    "        x, y = line.xy\n",
    "        ax.plot(x, y, color=v_color(ob), alpha=0.7,  solid_capstyle='round', \n",
    "                zorder=2)\n",
    "\n",
    "# figuresize -- provide width and height information\n",
    "\n",
    "fig = pyplot.figure(1, figsize=(8.0, 4.0*(math.sqrt(5)-1)), dpi=90) \n",
    "\n",
    "# Plug in multi line string and adjust range values to \n",
    "\n",
    "ax = fig.add_subplot(121)\n",
    "\n",
    "plot_coords(ax, od_lines)\n",
    "plot_bounds(ax, od_lines)\n",
    "plot_lines(ax, od_lines)\n",
    "\n",
    "ax.set_title('O-D segments: ')\n",
    "\n",
    "xrange = [0, 100]\n",
    "yrange = [0, 100]\n",
    "ax.set_xlim(*xrange)\n",
    "\n",
    "pyplot.show()\n"
   ]
  },
  {
   "cell_type": "code",
   "execution_count": null,
   "metadata": {
    "id": "9wL4kXw3R-Zp"
   },
   "outputs": [],
   "source": []
  }
 ],
 "metadata": {
  "colab": {
   "collapsed_sections": [],
   "name": "JThoma_GIS322_A3.ipynb",
   "provenance": []
  },
  "kernelspec": {
   "display_name": "Python 3",
   "language": "python",
   "name": "python3"
  },
  "language_info": {
   "codemirror_mode": {
    "name": "ipython",
    "version": 3
   },
   "file_extension": ".py",
   "mimetype": "text/x-python",
   "name": "python",
   "nbconvert_exporter": "python",
   "pygments_lexer": "ipython3",
   "version": "3.7.6"
  }
 },
 "nbformat": 4,
 "nbformat_minor": 1
}
