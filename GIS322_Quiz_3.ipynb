{
  "nbformat": 4,
  "nbformat_minor": 0,
  "metadata": {
    "colab": {
      "name": "GIS322_Quiz_3.ipynb",
      "provenance": [],
      "collapsed_sections": [],
      "authorship_tag": "ABX9TyNF634nkyRCk8PZt8ivnDr2",
      "include_colab_link": true
    },
    "kernelspec": {
      "name": "python3",
      "display_name": "Python 3"
    }
  },
  "cells": [
    {
      "cell_type": "markdown",
      "metadata": {
        "id": "view-in-github",
        "colab_type": "text"
      },
      "source": [
        "<a href=\"https://colab.research.google.com/github/JThom95/GIS322/blob/main/GIS322_Quiz_3.ipynb\" target=\"_parent\"><img src=\"https://colab.research.google.com/assets/colab-badge.svg\" alt=\"Open In Colab\"/></a>"
      ]
    },
    {
      "cell_type": "code",
      "metadata": {
        "id": "LxjKUyV5YaqK"
      },
      "source": [
        "from shapely.geometry import Point, LineString, Polygon, MultiLineString, MultiPoint, MultiPolygon"
      ],
      "execution_count": 1,
      "outputs": []
    },
    {
      "cell_type": "markdown",
      "metadata": {
        "id": "D8WMwfBJGbDF"
      },
      "source": [
        "Question 1"
      ]
    },
    {
      "cell_type": "code",
      "metadata": {
        "id": "5Af1ebuQ8_bw",
        "outputId": "8a8dcdf3-b85e-4c59-fc66-6db0868c60a4",
        "colab": {
          "base_uri": "https://localhost:8080/",
          "height": 34
        }
      },
      "source": [
        "q1pt = Point(1 , 1)\n",
        "coords = [(0, 0), (0, 2), (2,4), (4,2)]\n",
        "q1Poly = Polygon(coords)\n",
        "q1pt.contains(q1Poly)"
      ],
      "execution_count": 4,
      "outputs": [
        {
          "output_type": "execute_result",
          "data": {
            "text/plain": [
              "False"
            ]
          },
          "metadata": {
            "tags": []
          },
          "execution_count": 4
        }
      ]
    },
    {
      "cell_type": "markdown",
      "metadata": {
        "id": "aX_Gh8ORGf4n"
      },
      "source": [
        "Question 2"
      ]
    },
    {
      "cell_type": "code",
      "metadata": {
        "id": "bz14QVAMFT4x",
        "outputId": "bbfda89f-5700-49d0-e8a6-4e6d7a631589",
        "colab": {
          "base_uri": "https://localhost:8080/",
          "height": 34
        }
      },
      "source": [
        "q2Poly = Polygon([[0, 0], [1, 5], [4, 7], [9, 0]])\n",
        "print(q2Poly.centroid)"
      ],
      "execution_count": 8,
      "outputs": [
        {
          "output_type": "stream",
          "text": [
            "POINT (3.87719298245614 2.618421052631579)\n"
          ],
          "name": "stdout"
        }
      ]
    },
    {
      "cell_type": "markdown",
      "metadata": {
        "id": "TgdO7TMLGiob"
      },
      "source": [
        "Question 3"
      ]
    },
    {
      "cell_type": "code",
      "metadata": {
        "id": "MeiD1GBiF4KH",
        "outputId": "52449b48-e238-4100-8ae6-1706f3d1e0b9",
        "colab": {
          "base_uri": "https://localhost:8080/",
          "height": 34
        }
      },
      "source": [
        "q3line1 = LineString([(0,0), (1,5), (4,5)])\n",
        "\n",
        "q3line2 = LineString([ (1,1), (2,3), (3,10) ])\n",
        "\n",
        "print(q3line1.intersection(q3line2))"
      ],
      "execution_count": 9,
      "outputs": [
        {
          "output_type": "stream",
          "text": [
            "POINT (2.285714285714286 5)\n"
          ],
          "name": "stdout"
        }
      ]
    },
    {
      "cell_type": "markdown",
      "metadata": {
        "id": "e_fJrTsaHOls"
      },
      "source": [
        "Question 4"
      ]
    },
    {
      "cell_type": "code",
      "metadata": {
        "id": "wkSCA87mHG4t",
        "outputId": "96a333d9-87b7-4bb6-c6de-0c4acbe0a687",
        "colab": {
          "base_uri": "https://localhost:8080/",
          "height": 122
        }
      },
      "source": [
        "a = Polygon([(0,0), (0,1), (1,1), (1,0)])\n",
        "\n",
        "b = Point(1,1).buffer(0.5)\n",
        "\n",
        "c = a.union(b)\n",
        "\n",
        "c"
      ],
      "execution_count": 11,
      "outputs": [
        {
          "output_type": "execute_result",
          "data": {
            "text/plain": [
              "<shapely.geometry.polygon.Polygon at 0x7f2eac1d7b38>"
            ],
            "image/svg+xml": "<svg xmlns=\"http://www.w3.org/2000/svg\" xmlns:xlink=\"http://www.w3.org/1999/xlink\" width=\"100.0\" height=\"100.0\" viewBox=\"-0.06 -0.06 1.62 1.62\" preserveAspectRatio=\"xMinYMin meet\"><g transform=\"matrix(1,0,0,-1,0,1.5)\"><path fill-rule=\"evenodd\" fill=\"#66cc99\" stroke=\"#555555\" stroke-width=\"0.032400000000000005\" opacity=\"0.6\" d=\"M 0.0,0.0 L 0.0,1.0 L 0.5,1.0 L 0.5024076366639015,1.0490085701647798 L 0.5096073597983847,1.0975451610080638 L 0.5215298321338955,1.1451423386272308 L 0.5380602337443565,1.1913417161825446 L 0.5590393678258223,1.2356983684129985 L 0.5842651938487273,1.277785116509801 L 0.6134947733186314,1.3171966420818226 L 0.6464466094067262,1.3535533905932737 L 0.682803357918177,1.3865052266813684 L 0.7222148834901985,1.4157348061512725 L 0.7643016315870006,1.4409606321741772 L 0.8086582838174544,1.461939766255643 L 0.854857661372768,1.4784701678661043 L 0.9024548389919348,1.490392640201615 L 0.9509914298352184,1.4975923633360984 L 0.9999999999999986,1.5 L 1.0490085701647787,1.4975923633360986 L 1.0975451610080624,1.4903926402016157 L 1.1451423386272293,1.478470167866105 L 1.191341716182543,1.4619397662556441 L 1.2356983684129967,1.4409606321741786 L 1.277785116509799,1.415734806151274 L 1.3171966420818206,1.3865052266813702 L 1.3535533905932717,1.3535533905932757 L 1.3865052266813667,1.317196642081825 L 1.415734806151271,1.2777851165098038 L 1.440960632174176,1.2356983684130016 L 1.4619397662556421,1.1913417161825481 L 1.4784701678661034,1.1451423386272346 L 1.4903926402016145,1.0975451610080678 L 1.4975923633360981,1.0490085701647842 L 1.5,1.0000000000000042 L 1.5,1.0 L 1.4975923633360986,0.9509914298352198 L 1.4903926402016152,0.902454838991936 L 1.4784701678661045,0.854857661372769 L 1.4619397662556435,0.8086582838174553 L 1.4409606321741777,0.7643016315870014 L 1.415734806151273,0.7222148834901991 L 1.3865052266813687,0.6828033579181776 L 1.353553390593274,0.6464466094067265 L 1.317196642081823,0.6134947733186318 L 1.2777851165098015,0.5842651938487277 L 1.2356983684129994,0.5590393678258228 L 1.1913417161825455,0.5380602337443569 L 1.145142338627232,0.5215298321338957 L 1.0975451610080649,0.5096073597983849 L 1.049008570164781,0.5024076366639016 L 1.0000000000000009,0.5 L 1.0,0.5 L 1.0,0.0 L 0.0,0.0 z\" /></g></svg>"
          },
          "metadata": {
            "tags": []
          },
          "execution_count": 11
        }
      ]
    }
  ]
}