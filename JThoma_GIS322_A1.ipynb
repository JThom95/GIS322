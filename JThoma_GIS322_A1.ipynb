{
  "nbformat": 4,
  "nbformat_minor": 0,
  "metadata": {
    "colab": {
      "name": "JThoma_GIS322_A1.ipynb",
      "provenance": [],
      "collapsed_sections": [],
      "authorship_tag": "ABX9TyO1cYRTGAQmBQRFEpd4VS+g",
      "include_colab_link": true
    },
    "kernelspec": {
      "display_name": "Python 3",
      "name": "python3"
    }
  },
  "cells": [
    {
      "cell_type": "markdown",
      "metadata": {
        "id": "view-in-github",
        "colab_type": "text"
      },
      "source": [
        "<a href=\"https://colab.research.google.com/github/JThom95/GIS322/blob/main/JThoma_GIS322_A1.ipynb\" target=\"_parent\"><img src=\"https://colab.research.google.com/assets/colab-badge.svg\" alt=\"Open In Colab\"/></a>"
      ]
    },
    {
      "cell_type": "code",
      "metadata": {
        "id": "qZoQGKoPWpkV",
        "outputId": "adc9171b-9a96-4d78-924a-842ec5a63a64",
        "colab": {
          "background_save": true,
          "base_uri": "https://localhost:8080/",
          "height": 52
        }
      },
      "source": [
        "### Import modules\n",
        "import random\n",
        "\n",
        "### Create list of teams \n",
        "teams = ['Team 1','Team 2','Team 3','Team 4','Team 5','Team 6','Team 7','Team 8','Team 9','Team 10']\n",
        "\n",
        "### Create team performance fucntion 'order()'\n",
        "def order():\n",
        "    #Create final list\n",
        "    newList = []\n",
        "    while len(teams) != 0:\n",
        "        i = random.randint(0,(len(teams)-1))\n",
        "        newList.append(teams[i])\n",
        "        teams.pop(i)\n",
        "    if len(teams) == 0:\n",
        "      print('Everything checks out!')\n",
        "    print(newList)\n",
        "\n",
        "order()"
      ],
      "execution_count": null,
      "outputs": [
        {
          "output_type": "stream",
          "text": [
            "Everything checks out!\n",
            "['Team 4', 'Team 8', 'Team 7', 'Team 6', 'Team 5', 'Team 3', 'Team 2', 'Team 1', 'Team 10', 'Team 9']\n"
          ],
          "name": "stdout"
        }
      ]
    }
  ]
}