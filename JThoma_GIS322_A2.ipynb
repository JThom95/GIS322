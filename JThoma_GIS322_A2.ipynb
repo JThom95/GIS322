{
  "nbformat": 4,
  "nbformat_minor": 0,
  "metadata": {
    "colab": {
      "name": "JThoma_GIS322_A2.ipynb",
      "provenance": [],
      "collapsed_sections": []
    },
    "kernelspec": {
      "name": "python3",
      "display_name": "Python 3"
    }
  },
  "cells": [
    {
      "cell_type": "code",
      "metadata": {
        "id": "1IajFV0Hn-ip",
        "outputId": "062c1ebd-7158-4bd6-fe27-971c5a13f740",
        "colab": {
          "base_uri": "https://localhost:8080/",
          "height": 69
        }
      },
      "source": [
        "### Import modules snd objects\n",
        "import numpy as np\n",
        "from shapely.geometry import Point, LineString, Polygon\n",
        "\n",
        "### Read in text file using only the 'from_x', 'from_y', 'to_x', \n",
        "### and 'to_y' columns \n",
        "data = np.loadtxt('travelTimes_example_2019.txt', skiprows= 1, delimiter=';', \n",
        "                  usecols= [5,6,7,8])\n",
        "\n",
        "### Create Lists of origin points and destination\n",
        "orig_points = []\n",
        "dest_points = []\n",
        "\n",
        "### Fill orig_points list with Shapely Point objects \n",
        "def fillOrigPts():\n",
        "  for i in data:\n",
        "    orig_points.append(Point(i[0],i[1]))\n",
        "fillOrigPts()\n",
        "print('One of the origin points is: ',orig_points[5])\n",
        "\n",
        "### Fill dest_points list with Shapely Point objects \n",
        "def fillDestPts():\n",
        "  for i in data:\n",
        "    dest_points.append(Point(i[2],i[3]))\n",
        "fillDestPts()\n",
        "print('One of the destination points is: ',dest_points[5])\n",
        "\n",
        "### Create a list that will contain lines from the origin points to the \n",
        "### destination points\n",
        "od_strings = []\n",
        "\n",
        "### Fill od_strings with Shapely LineString objects that connect the origin \n",
        "### to the destination points\n",
        "def fillODstrings():\n",
        "  for i in data:\n",
        "    od_strings.append(LineString([(i[0],i[1]),(i[2],i[3])]))\n",
        "fillODstrings()\n",
        "print('One of the Lines from the origin to the destination is: ',od_strings[5])"
      ],
      "execution_count": null,
      "outputs": [
        {
          "output_type": "stream",
          "text": [
            "One of the origin points is:  POINT (28 36)\n",
            "One of the destination points is:  POINT (84 53)\n",
            "One of the Lines from the origin to the destination is:  LINESTRING (28 36, 84 53)\n"
          ],
          "name": "stdout"
        }
      ]
    },
    {
      "cell_type": "code",
      "metadata": {
        "id": "HoN9PKoDGsag"
      },
      "source": [
        ""
      ],
      "execution_count": null,
      "outputs": []
    }
  ]
}