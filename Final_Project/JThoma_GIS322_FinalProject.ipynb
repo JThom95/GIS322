{
 "cells": [
  {
   "cell_type": "code",
   "execution_count": null,
   "metadata": {},
   "outputs": [],
   "source": [
    "### Import all necessary modules\n",
    "import geopandas as gpd\n",
    "import pandas as pd\n",
    "import numpy as np\n",
    "import matplotlib.pyplot as plt\n",
    "from mpl_toolkits.axes_grid1 import make_axes_locatable\n",
    "\n",
    "%matplotlib inline"
   ]
  },
  {
   "cell_type": "code",
   "execution_count": null,
   "metadata": {},
   "outputs": [],
   "source": [
    "### Load in CSV with state names, covid deaths, covid cases, and gini index\n",
    "data = pd.read_csv('COVID19_state.csv')\n",
    "\n",
    "### Use pandas to read csv data into a DataFrame \n",
    "COVID_df = pd.DataFrame(data, columns=['State','Infected','Deaths','Gini'])\n",
    "\n",
    "### Add a new column to dataFrame and calculate COVID death rate (%)\n",
    "COVID_df['DeathRate'] = (COVID_df.Deaths / COVID_df.Infected)*100\n",
    "\n",
    "### Read in state boundaries shapefile as a geoDataFrame\n",
    "states = gpd.read_file('cb_2018_us_state_20m.shp')\n",
    "states = states.rename(columns={'NAME':'State'})\n",
    "\n",
    "### Merge dataFrame with COVID information into the states GeoDataFrame by state name \n",
    "states_allData = states.merge(COVID_df, on = 'State')"
   ]
  },
  {
   "cell_type": "code",
   "execution_count": null,
   "metadata": {
    "scrolled": false
   },
   "outputs": [],
   "source": [
    "### Create a color map showing the percentage of COVID deaths per state\n",
    "lower48 = states_allData[(states_allData.State != \"Alaska\") & (states_allData.State != 'Hawaii') & (states_allData.State != 'Puerto Rico')] \n",
    "fig, ax = plt.subplots(1, figsize=(16, 12))\n",
    "lower48.plot(column=\"DeathRate\",figsize=(16,12), ax=ax, cmap='YlOrRd',edgecolor='black', linewidth=0.2)\n",
    "\n",
    "vmin = lower48[\"DeathRate\"].min()\n",
    "vmax = lower48[\"DeathRate\"].max()\n",
    "\n",
    "plt.title(\"USA: COVID-19 Death Rate\",fontdict={'fontsize':20, 'fontweight':'bold'})\n",
    "    \n",
    "sm = plt.cm.ScalarMappable(norm=plt.Normalize(vmin=vmin, vmax=vmax),cmap='YlOrRd')\n",
    "divider = make_axes_locatable(ax)\n",
    "cax = divider.append_axes(\"left\", size=\"2%\", pad = 0.05)\n",
    "fig.colorbar(sm,label='Percent',cax=cax,)\n",
    "\n",
    "#plt.savefig(\"USAcovidDeaths\",dpi=400,bbox_inches='tight')"
   ]
  },
  {
   "cell_type": "code",
   "execution_count": null,
   "metadata": {},
   "outputs": [],
   "source": [
    "### Create a color map showing the Gini Index per state\n",
    "lower48 = states_allData[(states_allData.State != \"Alaska\") & (states_allData.State != 'Hawaii') & (states_allData.State != 'Puerto Rico')] \n",
    "fig, ax = plt.subplots(1, figsize=(16, 12))\n",
    "lower48.plot(column=\"Gini\",figsize=(16,12), ax=ax, cmap='YlOrRd',edgecolor='black', linewidth=0.2)\n",
    "\n",
    "vmin = lower48[\"Gini\"].min()\n",
    "vmax = lower48[\"Gini\"].max()\n",
    "\n",
    "plt.title(\"USA: Gini Index\",fontdict={'fontsize':20, 'fontweight':'bold'})\n",
    "    \n",
    "sm = plt.cm.ScalarMappable(norm=plt.Normalize(vmin=vmin, vmax=vmax),cmap='YlOrRd')\n",
    "divider = make_axes_locatable(ax)\n",
    "cax = divider.append_axes(\"left\", size=\"2%\", pad = 0.05)\n",
    "fig.colorbar(sm,cax=cax,)\n",
    "\n",
    "#plt.savefig(\"USAGiniIndex\",dpi=400,bbox_inches='tight')"
   ]
  },
  {
   "cell_type": "code",
   "execution_count": null,
   "metadata": {},
   "outputs": [],
   "source": [
    "### Create a scatterplot with trend line comparing the death rate and the Gini index \n",
    "fig = plt.figure(3, figsize=(12,8))\n",
    "\n",
    "x = lower48.Gini\n",
    "y = lower48.DeathRate\n",
    "\n",
    "plt.scatter(x, y)\n",
    "\n",
    "z = np.polyfit(x, y, 1)\n",
    "p = np.poly1d(z)\n",
    "plt.plot(x,p(x),'-r')\n",
    "\n",
    "plt.xlabel('Gini Index', fontdict={'fontsize':12, 'fontweight':'bold'})\n",
    "plt.ylabel('Covid Death Rate (%)', fontdict={'fontsize':12, 'fontweight':'bold'})\n",
    "\n",
    "plt.title(\"USA: Gini Index vs COVID Death Rate\",fontdict={'fontsize':20, 'fontweight':'bold'})\n",
    "\n",
    "#plt.savefig(\"ScatterPlot\",dpi=400,bbox_inches='tight')"
   ]
  },
  {
   "cell_type": "code",
   "execution_count": null,
   "metadata": {},
   "outputs": [],
   "source": [
    "### Test the correlation between the Gini Index and the Covid Death Rate\n"
   ]
  }
 ],
 "metadata": {
  "kernelspec": {
   "display_name": "Python 3",
   "language": "python",
   "name": "python3"
  },
  "language_info": {
   "codemirror_mode": {
    "name": "ipython",
    "version": 3
   },
   "file_extension": ".py",
   "mimetype": "text/x-python",
   "name": "python",
   "nbconvert_exporter": "python",
   "pygments_lexer": "ipython3",
   "version": "3.7.6"
  }
 },
 "nbformat": 4,
 "nbformat_minor": 4
}
